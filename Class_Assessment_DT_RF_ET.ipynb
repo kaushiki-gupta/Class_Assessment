{
 "cells": [
  {
   "cell_type": "markdown",
   "id": "725025d6",
   "metadata": {},
   "source": [
    "## Problem Statements\n",
    "1. Perform Exploratory Data Analysis (EDA) tasks\n",
    "a) Visualize the 10 random rows of the data set\n",
    "b) Generate the description for numeric variables\n",
    "c) Check the shape of the data set\n",
    "d) Generate the correlation matrix\n",
    "e) Generate a correlogram\n",
    "2. Find out the minimum and maximum values for GRE score\n",
    "3. Find out the percentage of universities for each university rating\n",
    "4. Convert the target variable “Chance of Admit” to categorical having values 0 and 1,such that :\n",
    "Students having the “Chance of Admit” value > 0.80, are assigned value 1, and\n",
    "Students having the “Chance of Admit” value < 0.80, are assigned value 0\n",
    "Where 0: Low chance of Admission and 1: High chance of admission\n",
    "5. Build a Decision Tree classifier, to predict whether a student has a low or high chance of admission to a chosen university. Perform Hyperparameter Tuning to improve the accuracy of the model.\n",
    "6. Build a Random Forest classifier, to predict whether a student has a low or high chance of admission to a chosen university.\n",
    "7. Compare all of the models and justify your choice about the optimum model."
   ]
  },
  {
   "cell_type": "markdown",
   "id": "769aa9f8",
   "metadata": {},
   "source": [
    "### Importing Libraries"
   ]
  },
  {
   "cell_type": "code",
   "execution_count": 1,
   "id": "d5df9a83",
   "metadata": {},
   "outputs": [],
   "source": [
    "import numpy as np\n",
    "import pandas as pd\n",
    "import matplotlib.pyplot as plt\n",
    "import seaborn as sns\n",
    "from sklearn.model_selection import train_test_split\n",
    "from sklearn.metrics import confusion_matrix,classification_report\n",
    "from sklearn.metrics import mean_squared_error, mean_absolute_error\n",
    "from sklearn.preprocessing import LabelEncoder\n",
    "from sklearn.preprocessing import OrdinalEncoder"
   ]
  },
  {
   "cell_type": "code",
   "execution_count": 2,
   "id": "dbf18f07",
   "metadata": {},
   "outputs": [],
   "source": [
    "from sklearn.linear_model import LinearRegression\n",
    "from sklearn.linear_model import LogisticRegression\n",
    "from sklearn.tree import DecisionTreeClassifier, plot_tree, export_text\n",
    "from sklearn.ensemble import RandomForestClassifier,AdaBoostClassifier\n",
    "from sklearn.neighbors import KNeighborsClassifier\n",
    "from xgboost import XGBClassifier\n",
    "from sklearn.naive_bayes import GaussianNB\n",
    "from sklearn.svm import SVC"
   ]
  },
  {
   "cell_type": "code",
   "execution_count": 3,
   "id": "33a60c89",
   "metadata": {},
   "outputs": [
    {
     "data": {
      "text/html": [
       "<div>\n",
       "<style scoped>\n",
       "    .dataframe tbody tr th:only-of-type {\n",
       "        vertical-align: middle;\n",
       "    }\n",
       "\n",
       "    .dataframe tbody tr th {\n",
       "        vertical-align: top;\n",
       "    }\n",
       "\n",
       "    .dataframe thead th {\n",
       "        text-align: right;\n",
       "    }\n",
       "</style>\n",
       "<table border=\"1\" class=\"dataframe\">\n",
       "  <thead>\n",
       "    <tr style=\"text-align: right;\">\n",
       "      <th></th>\n",
       "      <th>Serial No.</th>\n",
       "      <th>GRE Score</th>\n",
       "      <th>TOEFL Score</th>\n",
       "      <th>University Rating</th>\n",
       "      <th>SOP</th>\n",
       "      <th>LOR</th>\n",
       "      <th>CGPA</th>\n",
       "      <th>Research</th>\n",
       "      <th>Chance of Admit</th>\n",
       "    </tr>\n",
       "  </thead>\n",
       "  <tbody>\n",
       "    <tr>\n",
       "      <th>453</th>\n",
       "      <td>454</td>\n",
       "      <td>319</td>\n",
       "      <td>103</td>\n",
       "      <td>3</td>\n",
       "      <td>2.5</td>\n",
       "      <td>4.0</td>\n",
       "      <td>8.76</td>\n",
       "      <td>1</td>\n",
       "      <td>0.73</td>\n",
       "    </tr>\n",
       "    <tr>\n",
       "      <th>34</th>\n",
       "      <td>35</td>\n",
       "      <td>331</td>\n",
       "      <td>112</td>\n",
       "      <td>5</td>\n",
       "      <td>4.0</td>\n",
       "      <td>5.0</td>\n",
       "      <td>9.80</td>\n",
       "      <td>1</td>\n",
       "      <td>0.94</td>\n",
       "    </tr>\n",
       "    <tr>\n",
       "      <th>203</th>\n",
       "      <td>204</td>\n",
       "      <td>334</td>\n",
       "      <td>120</td>\n",
       "      <td>5</td>\n",
       "      <td>4.0</td>\n",
       "      <td>5.0</td>\n",
       "      <td>9.87</td>\n",
       "      <td>1</td>\n",
       "      <td>0.97</td>\n",
       "    </tr>\n",
       "    <tr>\n",
       "      <th>380</th>\n",
       "      <td>381</td>\n",
       "      <td>322</td>\n",
       "      <td>104</td>\n",
       "      <td>3</td>\n",
       "      <td>3.5</td>\n",
       "      <td>4.0</td>\n",
       "      <td>8.84</td>\n",
       "      <td>1</td>\n",
       "      <td>0.78</td>\n",
       "    </tr>\n",
       "    <tr>\n",
       "      <th>421</th>\n",
       "      <td>422</td>\n",
       "      <td>321</td>\n",
       "      <td>112</td>\n",
       "      <td>3</td>\n",
       "      <td>3.0</td>\n",
       "      <td>4.5</td>\n",
       "      <td>8.95</td>\n",
       "      <td>1</td>\n",
       "      <td>0.77</td>\n",
       "    </tr>\n",
       "    <tr>\n",
       "      <th>416</th>\n",
       "      <td>417</td>\n",
       "      <td>315</td>\n",
       "      <td>104</td>\n",
       "      <td>3</td>\n",
       "      <td>4.0</td>\n",
       "      <td>2.5</td>\n",
       "      <td>8.10</td>\n",
       "      <td>0</td>\n",
       "      <td>0.65</td>\n",
       "    </tr>\n",
       "    <tr>\n",
       "      <th>36</th>\n",
       "      <td>37</td>\n",
       "      <td>299</td>\n",
       "      <td>106</td>\n",
       "      <td>2</td>\n",
       "      <td>4.0</td>\n",
       "      <td>4.0</td>\n",
       "      <td>8.40</td>\n",
       "      <td>0</td>\n",
       "      <td>0.64</td>\n",
       "    </tr>\n",
       "    <tr>\n",
       "      <th>463</th>\n",
       "      <td>464</td>\n",
       "      <td>304</td>\n",
       "      <td>107</td>\n",
       "      <td>3</td>\n",
       "      <td>3.5</td>\n",
       "      <td>3.0</td>\n",
       "      <td>7.86</td>\n",
       "      <td>0</td>\n",
       "      <td>0.57</td>\n",
       "    </tr>\n",
       "    <tr>\n",
       "      <th>331</th>\n",
       "      <td>332</td>\n",
       "      <td>311</td>\n",
       "      <td>105</td>\n",
       "      <td>2</td>\n",
       "      <td>3.0</td>\n",
       "      <td>2.0</td>\n",
       "      <td>8.12</td>\n",
       "      <td>1</td>\n",
       "      <td>0.73</td>\n",
       "    </tr>\n",
       "    <tr>\n",
       "      <th>253</th>\n",
       "      <td>254</td>\n",
       "      <td>335</td>\n",
       "      <td>115</td>\n",
       "      <td>4</td>\n",
       "      <td>4.5</td>\n",
       "      <td>4.5</td>\n",
       "      <td>9.68</td>\n",
       "      <td>1</td>\n",
       "      <td>0.93</td>\n",
       "    </tr>\n",
       "  </tbody>\n",
       "</table>\n",
       "</div>"
      ],
      "text/plain": [
       "     Serial No.  GRE Score  TOEFL Score  University Rating  SOP  LOR   CGPA  \\\n",
       "453         454        319          103                  3  2.5   4.0  8.76   \n",
       "34           35        331          112                  5  4.0   5.0  9.80   \n",
       "203         204        334          120                  5  4.0   5.0  9.87   \n",
       "380         381        322          104                  3  3.5   4.0  8.84   \n",
       "421         422        321          112                  3  3.0   4.5  8.95   \n",
       "416         417        315          104                  3  4.0   2.5  8.10   \n",
       "36           37        299          106                  2  4.0   4.0  8.40   \n",
       "463         464        304          107                  3  3.5   3.0  7.86   \n",
       "331         332        311          105                  2  3.0   2.0  8.12   \n",
       "253         254        335          115                  4  4.5   4.5  9.68   \n",
       "\n",
       "     Research  Chance of Admit   \n",
       "453         1              0.73  \n",
       "34          1              0.94  \n",
       "203         1              0.97  \n",
       "380         1              0.78  \n",
       "421         1              0.77  \n",
       "416         0              0.65  \n",
       "36          0              0.64  \n",
       "463         0              0.57  \n",
       "331         1              0.73  \n",
       "253         1              0.93  "
      ]
     },
     "execution_count": 3,
     "metadata": {},
     "output_type": "execute_result"
    }
   ],
   "source": [
    "df1 = pd.read_csv('admission.csv')\n",
    "df = df1.copy()\n",
    "df1.sample(10)"
   ]
  },
  {
   "cell_type": "code",
   "execution_count": 4,
   "id": "d05aae29",
   "metadata": {},
   "outputs": [
    {
     "data": {
      "text/plain": [
       "(500, 9)"
      ]
     },
     "execution_count": 4,
     "metadata": {},
     "output_type": "execute_result"
    }
   ],
   "source": [
    "df.shape"
   ]
  },
  {
   "cell_type": "markdown",
   "id": "145456ef",
   "metadata": {},
   "source": [
    "### Data Preprocessing"
   ]
  },
  {
   "cell_type": "code",
   "execution_count": 5,
   "id": "e997b57d",
   "metadata": {},
   "outputs": [
    {
     "name": "stdout",
     "output_type": "stream",
     "text": [
      "Series([], dtype: int64)\n"
     ]
    }
   ],
   "source": [
    "nv = df.isnull().sum()\n",
    "nv = nv[nv>0]\n",
    "print(nv)"
   ]
  },
  {
   "cell_type": "code",
   "execution_count": 6,
   "id": "80572e5b",
   "metadata": {
    "scrolled": true
   },
   "outputs": [
    {
     "data": {
      "text/plain": [
       "0"
      ]
     },
     "execution_count": 6,
     "metadata": {},
     "output_type": "execute_result"
    }
   ],
   "source": [
    "df.duplicated().sum()"
   ]
  },
  {
   "cell_type": "code",
   "execution_count": 7,
   "id": "dce02803",
   "metadata": {},
   "outputs": [],
   "source": [
    "df.drop('Serial No.', axis=1, inplace=True)"
   ]
  },
  {
   "cell_type": "markdown",
   "id": "36afd7bc",
   "metadata": {},
   "source": [
    "#### Inference:\n",
    "There are no nulls and duplicates in the data"
   ]
  },
  {
   "cell_type": "code",
   "execution_count": 8,
   "id": "379235d5",
   "metadata": {},
   "outputs": [
    {
     "data": {
      "text/plain": [
       "GRE Score              int64\n",
       "TOEFL Score            int64\n",
       "University Rating      int64\n",
       "SOP                  float64\n",
       "LOR                  float64\n",
       "CGPA                 float64\n",
       "Research               int64\n",
       "Chance of Admit      float64\n",
       "dtype: object"
      ]
     },
     "execution_count": 8,
     "metadata": {},
     "output_type": "execute_result"
    }
   ],
   "source": [
    "df.dtypes"
   ]
  },
  {
   "cell_type": "markdown",
   "id": "c240e71d",
   "metadata": {},
   "source": [
    "### EDA"
   ]
  },
  {
   "cell_type": "markdown",
   "id": "954673a4",
   "metadata": {},
   "source": [
    "#### Correlation"
   ]
  },
  {
   "cell_type": "code",
   "execution_count": 9,
   "id": "49b3fbc8",
   "metadata": {},
   "outputs": [
    {
     "data": {
      "image/png": "[encoded data removed]",
      "text/plain": [
       "<Figure size 640x480 with 2 Axes>"
      ]
     },
     "metadata": {},
     "output_type": "display_data"
    }
   ],
   "source": [
    "corr = df.corr()\n",
    "sns.heatmap(corr, annot=True, cmap='viridis')\n",
    "plt.show()"
   ]
  },
  {
   "cell_type": "code",
   "execution_count": 10,
   "id": "65fd74b7",
   "metadata": {},
   "outputs": [
    {
     "data": {
      "image/png": "[encoded data removed]",
      "text/plain": [
       "<Figure size 640x480 with 2 Axes>"
      ]
     },
     "metadata": {},
     "output_type": "display_data"
    }
   ],
   "source": [
    "corr1 = corr[corr>0.8]\n",
    "sns.heatmap(corr1, annot=True, cmap='viridis')\n",
    "plt.show()"
   ]
  },
  {
   "cell_type": "markdown",
   "id": "fa31c761",
   "metadata": {},
   "source": [
    "### inference:\n",
    "1. GRE score and TOEFL score are highly correlated columns (0.83)\n",
    "2. CGPA is highly correlated with GRE score, TOEFL score"
   ]
  },
  {
   "cell_type": "code",
   "execution_count": 11,
   "id": "08a42b93",
   "metadata": {
    "scrolled": true
   },
   "outputs": [
    {
     "name": "stdout",
     "output_type": "stream",
     "text": [
      "Feature name:GRE Score\n",
      "312    24\n",
      "324    23\n",
      "316    18\n",
      "321    17\n",
      "322    17\n",
      "327    17\n",
      "311    16\n",
      "320    16\n",
      "314    16\n",
      "317    15\n",
      "325    15\n",
      "315    13\n",
      "308    13\n",
      "323    13\n",
      "326    12\n",
      "319    12\n",
      "313    12\n",
      "304    12\n",
      "300    12\n",
      "318    12\n",
      "305    11\n",
      "301    11\n",
      "310    11\n",
      "307    10\n",
      "329    10\n",
      "299    10\n",
      "298    10\n",
      "331     9\n",
      "340     9\n",
      "328     9\n",
      "309     9\n",
      "334     8\n",
      "332     8\n",
      "330     8\n",
      "306     7\n",
      "302     7\n",
      "297     6\n",
      "296     5\n",
      "295     5\n",
      "336     5\n",
      "303     5\n",
      "338     4\n",
      "335     4\n",
      "333     4\n",
      "339     3\n",
      "337     2\n",
      "290     2\n",
      "294     2\n",
      "293     1\n",
      "Name: GRE Score, dtype: int64\n",
      "********************\n",
      "Feature name:TOEFL Score\n",
      "110    44\n",
      "105    37\n",
      "104    29\n",
      "107    28\n",
      "106    28\n",
      "112    28\n",
      "103    25\n",
      "100    24\n",
      "102    24\n",
      "99     23\n",
      "101    20\n",
      "111    20\n",
      "108    19\n",
      "113    19\n",
      "109    19\n",
      "114    18\n",
      "116    16\n",
      "115    11\n",
      "118    10\n",
      "98     10\n",
      "119    10\n",
      "120     9\n",
      "117     8\n",
      "97      7\n",
      "96      6\n",
      "95      3\n",
      "93      2\n",
      "94      2\n",
      "92      1\n",
      "Name: TOEFL Score, dtype: int64\n",
      "********************\n",
      "Feature name:University Rating\n",
      "3    162\n",
      "2    126\n",
      "4    105\n",
      "5     73\n",
      "1     34\n",
      "Name: University Rating, dtype: int64\n",
      "********************\n",
      "Feature name:SOP\n",
      "4.0    89\n",
      "3.5    88\n",
      "3.0    80\n",
      "2.5    64\n",
      "4.5    63\n",
      "2.0    43\n",
      "5.0    42\n",
      "1.5    25\n",
      "1.0     6\n",
      "Name: SOP, dtype: int64\n",
      "********************\n",
      "Feature name:LOR \n",
      "3.0    99\n",
      "4.0    94\n",
      "3.5    86\n",
      "4.5    63\n",
      "2.5    50\n",
      "5.0    50\n",
      "2.0    46\n",
      "1.5    11\n",
      "1.0     1\n",
      "Name: LOR , dtype: int64\n",
      "********************\n",
      "Feature name:CGPA\n",
      "8.76    9\n",
      "8.00    9\n",
      "8.12    7\n",
      "8.45    7\n",
      "8.54    7\n",
      "       ..\n",
      "9.92    1\n",
      "9.35    1\n",
      "8.71    1\n",
      "9.32    1\n",
      "7.69    1\n",
      "Name: CGPA, Length: 184, dtype: int64\n",
      "********************\n",
      "Feature name:Research\n",
      "1    280\n",
      "0    220\n",
      "Name: Research, dtype: int64\n",
      "********************\n",
      "Feature name:Chance of Admit \n",
      "0.71    23\n",
      "0.64    19\n",
      "0.73    18\n",
      "0.72    16\n",
      "0.79    16\n",
      "        ..\n",
      "0.38     2\n",
      "0.36     2\n",
      "0.43     1\n",
      "0.39     1\n",
      "0.37     1\n",
      "Name: Chance of Admit , Length: 61, dtype: int64\n",
      "********************\n"
     ]
    }
   ],
   "source": [
    "for i in df.columns:\n",
    "    print(f'Feature name:{i}')\n",
    "    print(df[i].value_counts())\n",
    "    print('*'*20)"
   ]
  },
  {
   "cell_type": "markdown",
   "id": "f2a05fcc",
   "metadata": {},
   "source": [
    "#### Inference:\n",
    "1. GRE Score, TOEFL Score, SOP, LOR, CGPA and Chance of Admit are continuous columns.\n",
    "2. University Rating, Research are categorical columns and are already encoded. "
   ]
  },
  {
   "cell_type": "markdown",
   "id": "202fafb6",
   "metadata": {},
   "source": [
    "#### Boxplot"
   ]
  },
  {
   "cell_type": "code",
   "execution_count": 12,
   "id": "fa696537",
   "metadata": {},
   "outputs": [
    {
     "data": {
      "text/plain": [
       "Index(['GRE Score', 'TOEFL Score', 'University Rating', 'SOP', 'LOR ', 'CGPA',\n",
       "       'Research', 'Chance of Admit '],\n",
       "      dtype='object')"
      ]
     },
     "execution_count": 12,
     "metadata": {},
     "output_type": "execute_result"
    }
   ],
   "source": [
    "df.columns"
   ]
  },
  {
   "cell_type": "code",
   "execution_count": 13,
   "id": "6d7a0199",
   "metadata": {},
   "outputs": [],
   "source": [
    "num_cols = ['GRE Score', 'TOEFL Score','SOP', 'LOR ', 'CGPA']"
   ]
  },
  {
   "cell_type": "code",
   "execution_count": 14,
   "id": "668a0791",
   "metadata": {
    "scrolled": false
   },
   "outputs": [
    {
     "data": {
      "image/png": "[encoded data removed]",
      "text/plain": [
       "<Figure size 640x480 with 1 Axes>"
      ]
     },
     "metadata": {},
     "output_type": "display_data"
    },
    {
     "data": {
      "image/png": "[encoded data removed]",
      "text/plain": [
       "<Figure size 640x480 with 1 Axes>"
      ]
     },
     "metadata": {},
     "output_type": "display_data"
    },
    {
     "data": {
      "image/png": "[encoded data removed]",
      "text/plain": [
       "<Figure size 640x480 with 1 Axes>"
      ]
     },
     "metadata": {},
     "output_type": "display_data"
    },
    {
     "data": {
      "image/png": "[encoded data removed]",
      "text/plain": [
       "<Figure size 640x480 with 1 Axes>"
      ]
     },
     "metadata": {},
     "output_type": "display_data"
    },
    {
     "data": {
      "image/png": "[encoded data removed]",
      "text/plain": [
       "<Figure size 640x480 with 1 Axes>"
      ]
     },
     "metadata": {},
     "output_type": "display_data"
    }
   ],
   "source": [
    "for i in num_cols:\n",
    "    sns.boxplot(x=df[i])\n",
    "    plt.title(f'Boxplot of {i}')\n",
    "    plt.show()"
   ]
  },
  {
   "cell_type": "markdown",
   "id": "2da843e6",
   "metadata": {},
   "source": [
    "#### Inference:\n",
    "There are outliers present in LOR"
   ]
  },
  {
   "cell_type": "code",
   "execution_count": 15,
   "id": "ba0d2aff",
   "metadata": {},
   "outputs": [
    {
     "data": {
      "text/html": [
       "<div>\n",
       "<style scoped>\n",
       "    .dataframe tbody tr th:only-of-type {\n",
       "        vertical-align: middle;\n",
       "    }\n",
       "\n",
       "    .dataframe tbody tr th {\n",
       "        vertical-align: top;\n",
       "    }\n",
       "\n",
       "    .dataframe thead th {\n",
       "        text-align: right;\n",
       "    }\n",
       "</style>\n",
       "<table border=\"1\" class=\"dataframe\">\n",
       "  <thead>\n",
       "    <tr style=\"text-align: right;\">\n",
       "      <th></th>\n",
       "      <th>count</th>\n",
       "      <th>mean</th>\n",
       "      <th>std</th>\n",
       "      <th>min</th>\n",
       "      <th>1%</th>\n",
       "      <th>3%</th>\n",
       "      <th>5%</th>\n",
       "      <th>50%</th>\n",
       "      <th>max</th>\n",
       "    </tr>\n",
       "  </thead>\n",
       "  <tbody>\n",
       "    <tr>\n",
       "      <th>GRE Score</th>\n",
       "      <td>500.0</td>\n",
       "      <td>316.47200</td>\n",
       "      <td>11.295148</td>\n",
       "      <td>290.00</td>\n",
       "      <td>294.9900</td>\n",
       "      <td>296.9700</td>\n",
       "      <td>298.000</td>\n",
       "      <td>317.00</td>\n",
       "      <td>340.00</td>\n",
       "    </tr>\n",
       "    <tr>\n",
       "      <th>TOEFL Score</th>\n",
       "      <td>500.0</td>\n",
       "      <td>107.19200</td>\n",
       "      <td>6.081868</td>\n",
       "      <td>92.00</td>\n",
       "      <td>94.9900</td>\n",
       "      <td>97.0000</td>\n",
       "      <td>98.000</td>\n",
       "      <td>107.00</td>\n",
       "      <td>120.00</td>\n",
       "    </tr>\n",
       "    <tr>\n",
       "      <th>University Rating</th>\n",
       "      <td>500.0</td>\n",
       "      <td>3.11400</td>\n",
       "      <td>1.143512</td>\n",
       "      <td>1.00</td>\n",
       "      <td>1.0000</td>\n",
       "      <td>1.0000</td>\n",
       "      <td>1.000</td>\n",
       "      <td>3.00</td>\n",
       "      <td>5.00</td>\n",
       "    </tr>\n",
       "    <tr>\n",
       "      <th>SOP</th>\n",
       "      <td>500.0</td>\n",
       "      <td>3.37400</td>\n",
       "      <td>0.991004</td>\n",
       "      <td>1.00</td>\n",
       "      <td>1.0000</td>\n",
       "      <td>1.5000</td>\n",
       "      <td>1.500</td>\n",
       "      <td>3.50</td>\n",
       "      <td>5.00</td>\n",
       "    </tr>\n",
       "    <tr>\n",
       "      <th>LOR</th>\n",
       "      <td>500.0</td>\n",
       "      <td>3.48400</td>\n",
       "      <td>0.925450</td>\n",
       "      <td>1.00</td>\n",
       "      <td>1.5000</td>\n",
       "      <td>2.0000</td>\n",
       "      <td>2.000</td>\n",
       "      <td>3.50</td>\n",
       "      <td>5.00</td>\n",
       "    </tr>\n",
       "    <tr>\n",
       "      <th>CGPA</th>\n",
       "      <td>500.0</td>\n",
       "      <td>8.57644</td>\n",
       "      <td>0.604813</td>\n",
       "      <td>6.80</td>\n",
       "      <td>7.2797</td>\n",
       "      <td>7.4597</td>\n",
       "      <td>7.638</td>\n",
       "      <td>8.56</td>\n",
       "      <td>9.92</td>\n",
       "    </tr>\n",
       "    <tr>\n",
       "      <th>Research</th>\n",
       "      <td>500.0</td>\n",
       "      <td>0.56000</td>\n",
       "      <td>0.496884</td>\n",
       "      <td>0.00</td>\n",
       "      <td>0.0000</td>\n",
       "      <td>0.0000</td>\n",
       "      <td>0.000</td>\n",
       "      <td>1.00</td>\n",
       "      <td>1.00</td>\n",
       "    </tr>\n",
       "    <tr>\n",
       "      <th>Chance of Admit</th>\n",
       "      <td>500.0</td>\n",
       "      <td>0.72174</td>\n",
       "      <td>0.141140</td>\n",
       "      <td>0.34</td>\n",
       "      <td>0.3799</td>\n",
       "      <td>0.4400</td>\n",
       "      <td>0.470</td>\n",
       "      <td>0.72</td>\n",
       "      <td>0.97</td>\n",
       "    </tr>\n",
       "  </tbody>\n",
       "</table>\n",
       "</div>"
      ],
      "text/plain": [
       "                   count       mean        std     min        1%        3%  \\\n",
       "GRE Score          500.0  316.47200  11.295148  290.00  294.9900  296.9700   \n",
       "TOEFL Score        500.0  107.19200   6.081868   92.00   94.9900   97.0000   \n",
       "University Rating  500.0    3.11400   1.143512    1.00    1.0000    1.0000   \n",
       "SOP                500.0    3.37400   0.991004    1.00    1.0000    1.5000   \n",
       "LOR                500.0    3.48400   0.925450    1.00    1.5000    2.0000   \n",
       "CGPA               500.0    8.57644   0.604813    6.80    7.2797    7.4597   \n",
       "Research           500.0    0.56000   0.496884    0.00    0.0000    0.0000   \n",
       "Chance of Admit    500.0    0.72174   0.141140    0.34    0.3799    0.4400   \n",
       "\n",
       "                        5%     50%     max  \n",
       "GRE Score          298.000  317.00  340.00  \n",
       "TOEFL Score         98.000  107.00  120.00  \n",
       "University Rating    1.000    3.00    5.00  \n",
       "SOP                  1.500    3.50    5.00  \n",
       "LOR                  2.000    3.50    5.00  \n",
       "CGPA                 7.638    8.56    9.92  \n",
       "Research             0.000    1.00    1.00  \n",
       "Chance of Admit      0.470    0.72    0.97  "
      ]
     },
     "execution_count": 15,
     "metadata": {},
     "output_type": "execute_result"
    }
   ],
   "source": [
    "df.describe(percentiles=[0.01,0.03,0.05]).T"
   ]
  },
  {
   "cell_type": "code",
   "execution_count": 16,
   "id": "2315a186",
   "metadata": {},
   "outputs": [
    {
     "name": "stdout",
     "output_type": "stream",
     "text": [
      "(1, 8)\n"
     ]
    }
   ],
   "source": [
    "print(df[df['LOR ']<1.5].shape)"
   ]
  },
  {
   "cell_type": "code",
   "execution_count": 17,
   "id": "a55f2480",
   "metadata": {},
   "outputs": [],
   "source": [
    "outlier_row = df[df['LOR ']<1.5].index\n",
    "df.drop(outlier_row, inplace=True)"
   ]
  },
  {
   "cell_type": "markdown",
   "id": "c8e86765",
   "metadata": {},
   "source": [
    "#### Minimum and Maximum values of GRE score"
   ]
  },
  {
   "cell_type": "code",
   "execution_count": 18,
   "id": "e560e4c3",
   "metadata": {},
   "outputs": [
    {
     "name": "stdout",
     "output_type": "stream",
     "text": [
      "Minimum GRE Score: 290\n",
      "Maximum GRE Score: 340\n"
     ]
    }
   ],
   "source": [
    "print('Minimum GRE Score:',df['GRE Score'].min())\n",
    "print('Maximum GRE Score:',df['GRE Score'].max())"
   ]
  },
  {
   "cell_type": "markdown",
   "id": "c7d18d19",
   "metadata": {},
   "source": [
    "#### Percentage of University per rank"
   ]
  },
  {
   "cell_type": "code",
   "execution_count": 19,
   "id": "dab71203",
   "metadata": {},
   "outputs": [
    {
     "data": {
      "text/plain": [
       "3    162\n",
       "2    126\n",
       "4    105\n",
       "5     73\n",
       "1     33\n",
       "Name: University Rating, dtype: int64"
      ]
     },
     "execution_count": 19,
     "metadata": {},
     "output_type": "execute_result"
    }
   ],
   "source": [
    "uc = df['University Rating'].value_counts()\n",
    "uc"
   ]
  },
  {
   "cell_type": "code",
   "execution_count": 20,
   "id": "cb89d465",
   "metadata": {},
   "outputs": [
    {
     "data": {
      "image/png": "[encoded data removed]",
      "text/plain": [
       "<Figure size 640x480 with 1 Axes>"
      ]
     },
     "metadata": {},
     "output_type": "display_data"
    }
   ],
   "source": [
    "rank = ['Rank 3', 'Rank 2', 'Rank 4', 'Rank 5', 'Rank 1']\n",
    "plt.pie(x=uc, autopct='%.2f%%', labels=rank)\n",
    "plt.title('Pie Chart of University Rating')\n",
    "plt.show()"
   ]
  },
  {
   "cell_type": "markdown",
   "id": "b69686f9",
   "metadata": {},
   "source": [
    "### Encoding the target variable"
   ]
  },
  {
   "cell_type": "code",
   "execution_count": 21,
   "id": "6be334f4",
   "metadata": {},
   "outputs": [],
   "source": [
    "# Students having the “Chance of Admit” value > 0.80, are assigned value 1, and\n",
    "# Students having the “Chance of Admit” value < 0.80, are assigned value 0\n",
    "# Where 0: Low chance of Admission and 1: High chance of admission"
   ]
  },
  {
   "cell_type": "code",
   "execution_count": 22,
   "id": "f3678aae",
   "metadata": {},
   "outputs": [
    {
     "data": {
      "text/html": [
       "<div>\n",
       "<style scoped>\n",
       "    .dataframe tbody tr th:only-of-type {\n",
       "        vertical-align: middle;\n",
       "    }\n",
       "\n",
       "    .dataframe tbody tr th {\n",
       "        vertical-align: top;\n",
       "    }\n",
       "\n",
       "    .dataframe thead th {\n",
       "        text-align: right;\n",
       "    }\n",
       "</style>\n",
       "<table border=\"1\" class=\"dataframe\">\n",
       "  <thead>\n",
       "    <tr style=\"text-align: right;\">\n",
       "      <th></th>\n",
       "      <th>GRE Score</th>\n",
       "      <th>TOEFL Score</th>\n",
       "      <th>University Rating</th>\n",
       "      <th>SOP</th>\n",
       "      <th>LOR</th>\n",
       "      <th>CGPA</th>\n",
       "      <th>Research</th>\n",
       "      <th>Chance of Admit</th>\n",
       "      <th>Chance of Admission</th>\n",
       "    </tr>\n",
       "  </thead>\n",
       "  <tbody>\n",
       "    <tr>\n",
       "      <th>0</th>\n",
       "      <td>337</td>\n",
       "      <td>118</td>\n",
       "      <td>4</td>\n",
       "      <td>4.5</td>\n",
       "      <td>4.5</td>\n",
       "      <td>9.65</td>\n",
       "      <td>1</td>\n",
       "      <td>0.92</td>\n",
       "      <td>1</td>\n",
       "    </tr>\n",
       "    <tr>\n",
       "      <th>1</th>\n",
       "      <td>324</td>\n",
       "      <td>107</td>\n",
       "      <td>4</td>\n",
       "      <td>4.0</td>\n",
       "      <td>4.5</td>\n",
       "      <td>8.87</td>\n",
       "      <td>1</td>\n",
       "      <td>0.76</td>\n",
       "      <td>0</td>\n",
       "    </tr>\n",
       "    <tr>\n",
       "      <th>2</th>\n",
       "      <td>316</td>\n",
       "      <td>104</td>\n",
       "      <td>3</td>\n",
       "      <td>3.0</td>\n",
       "      <td>3.5</td>\n",
       "      <td>8.00</td>\n",
       "      <td>1</td>\n",
       "      <td>0.72</td>\n",
       "      <td>0</td>\n",
       "    </tr>\n",
       "    <tr>\n",
       "      <th>3</th>\n",
       "      <td>322</td>\n",
       "      <td>110</td>\n",
       "      <td>3</td>\n",
       "      <td>3.5</td>\n",
       "      <td>2.5</td>\n",
       "      <td>8.67</td>\n",
       "      <td>1</td>\n",
       "      <td>0.80</td>\n",
       "      <td>0</td>\n",
       "    </tr>\n",
       "    <tr>\n",
       "      <th>4</th>\n",
       "      <td>314</td>\n",
       "      <td>103</td>\n",
       "      <td>2</td>\n",
       "      <td>2.0</td>\n",
       "      <td>3.0</td>\n",
       "      <td>8.21</td>\n",
       "      <td>0</td>\n",
       "      <td>0.65</td>\n",
       "      <td>0</td>\n",
       "    </tr>\n",
       "  </tbody>\n",
       "</table>\n",
       "</div>"
      ],
      "text/plain": [
       "   GRE Score  TOEFL Score  University Rating  SOP  LOR   CGPA  Research  \\\n",
       "0        337          118                  4  4.5   4.5  9.65         1   \n",
       "1        324          107                  4  4.0   4.5  8.87         1   \n",
       "2        316          104                  3  3.0   3.5  8.00         1   \n",
       "3        322          110                  3  3.5   2.5  8.67         1   \n",
       "4        314          103                  2  2.0   3.0  8.21         0   \n",
       "\n",
       "   Chance of Admit   Chance of Admission  \n",
       "0              0.92                    1  \n",
       "1              0.76                    0  \n",
       "2              0.72                    0  \n",
       "3              0.80                    0  \n",
       "4              0.65                    0  "
      ]
     },
     "execution_count": 22,
     "metadata": {},
     "output_type": "execute_result"
    }
   ],
   "source": [
    "df['Chance of Admission'] = df['Chance of Admit '].map(lambda x: 1 if x>0.80 else 0)\n",
    "df.head()"
   ]
  },
  {
   "cell_type": "code",
   "execution_count": 23,
   "id": "2a98b013",
   "metadata": {},
   "outputs": [],
   "source": [
    "df.drop('Chance of Admit ', axis=1, inplace=True)"
   ]
  },
  {
   "cell_type": "markdown",
   "id": "4b338d62",
   "metadata": {},
   "source": [
    "## Model Building"
   ]
  },
  {
   "cell_type": "code",
   "execution_count": 24,
   "id": "5f4d7e2c",
   "metadata": {},
   "outputs": [
    {
     "data": {
      "text/plain": [
       "Index(['GRE Score', 'TOEFL Score', 'University Rating', 'SOP', 'LOR ', 'CGPA',\n",
       "       'Research', 'Chance of Admission'],\n",
       "      dtype='object')"
      ]
     },
     "execution_count": 24,
     "metadata": {},
     "output_type": "execute_result"
    }
   ],
   "source": [
    "df.columns"
   ]
  },
  {
   "cell_type": "code",
   "execution_count": 25,
   "id": "d1940a08",
   "metadata": {},
   "outputs": [
    {
     "name": "stdout",
     "output_type": "stream",
     "text": [
      "(499, 6)\n",
      "(499,)\n"
     ]
    }
   ],
   "source": [
    "x = df.drop(['CGPA', 'Chance of Admission'], axis=1)\n",
    "y = df['Chance of Admission']\n",
    "print(x.shape)\n",
    "print(y.shape)"
   ]
  },
  {
   "cell_type": "code",
   "execution_count": 26,
   "id": "39c6837d",
   "metadata": {},
   "outputs": [
    {
     "name": "stdout",
     "output_type": "stream",
     "text": [
      "(374, 6)\n",
      "(125, 6)\n",
      "(374,)\n",
      "(125,)\n"
     ]
    }
   ],
   "source": [
    "x_train,x_test,y_train,y_test = train_test_split(x,y,test_size=0.25,random_state=42)\n",
    "print(x_train.shape)\n",
    "print(x_test.shape)\n",
    "print(y_train.shape)\n",
    "print(y_test.shape)"
   ]
  },
  {
   "cell_type": "code",
   "execution_count": 27,
   "id": "b7d5d154",
   "metadata": {},
   "outputs": [],
   "source": [
    "def model_metrics(model,x_train,x_test,y_train,y_test):\n",
    "    model.fit(x_train,y_train)\n",
    "    train_scr = model.score(x_train,y_train)\n",
    "    test_scr = model.score(x_test,y_test)\n",
    "    print('Training score',train_scr)\n",
    "    print('Testing score',test_scr)\n",
    "    ypred = model.predict(x_test)\n",
    "    print('Predictions',ypred)\n",
    "    cm = confusion_matrix(y_test,ypred)\n",
    "    print(cm)\n",
    "    print(classification_report(y_test,ypred))\n",
    "    res = {'Train Score': train_scr, 'Test Score': test_scr}\n",
    "    return res"
   ]
  },
  {
   "cell_type": "markdown",
   "id": "a52bccd7",
   "metadata": {},
   "source": [
    "### Model 1: Logistic Regression"
   ]
  },
  {
   "cell_type": "code",
   "execution_count": 28,
   "id": "2b34fa9b",
   "metadata": {},
   "outputs": [
    {
     "name": "stdout",
     "output_type": "stream",
     "text": [
      "Training score 0.93048128342246\n",
      "Testing score 0.912\n",
      "Predictions [0 0 0 0 1 0 0 0 0 0 0 0 0 1 0 0 0 0 0 0 0 0 0 1 0 0 0 0 0 0 1 0 0 0 0 0 0\n",
      " 0 0 1 0 0 1 0 1 1 0 1 1 0 0 1 0 0 0 1 0 1 0 0 0 0 1 1 0 0 0 1 1 0 0 0 0 1\n",
      " 0 0 0 0 1 0 0 0 0 0 0 0 0 0 0 1 0 0 0 0 0 0 1 0 0 0 0 0 0 1 0 0 1 0 1 0 0\n",
      " 0 0 0 0 0 0 1 0 0 0 0 0 1 1]\n",
      "[[90  3]\n",
      " [ 8 24]]\n",
      "              precision    recall  f1-score   support\n",
      "\n",
      "           0       0.92      0.97      0.94        93\n",
      "           1       0.89      0.75      0.81        32\n",
      "\n",
      "    accuracy                           0.91       125\n",
      "   macro avg       0.90      0.86      0.88       125\n",
      "weighted avg       0.91      0.91      0.91       125\n",
      "\n"
     ]
    }
   ],
   "source": [
    "lr1 = LogisticRegression(max_iter = 100000)\n",
    "lr1_res = model_metrics(lr1,x_train,x_test,y_train,y_test)\n",
    "model1 = pd.DataFrame(lr1_res, index=['Logistic Regression'])"
   ]
  },
  {
   "cell_type": "markdown",
   "id": "cc5f4367",
   "metadata": {},
   "source": [
    "### Model 2: Decision Tree"
   ]
  },
  {
   "cell_type": "code",
   "execution_count": 29,
   "id": "c509fc59",
   "metadata": {
    "scrolled": true
   },
   "outputs": [
    {
     "name": "stdout",
     "output_type": "stream",
     "text": [
      "Training score 0.9438502673796791\n",
      "Testing score 0.928\n",
      "Predictions [0 0 0 0 1 0 0 0 0 0 0 0 0 1 0 0 0 0 0 0 0 0 0 1 0 0 0 0 0 0 1 0 1 0 0 0 0\n",
      " 0 0 1 0 0 1 0 1 1 0 1 1 0 0 1 0 0 0 1 0 1 0 0 1 0 1 1 0 0 0 1 1 0 0 0 0 1\n",
      " 0 0 1 0 1 0 0 0 0 0 0 0 0 0 0 1 0 0 0 0 0 0 1 0 0 0 0 0 0 0 0 0 1 0 1 0 0\n",
      " 0 0 0 0 0 0 0 0 0 0 0 0 1 0]\n",
      "[[91  2]\n",
      " [ 7 25]]\n",
      "              precision    recall  f1-score   support\n",
      "\n",
      "           0       0.93      0.98      0.95        93\n",
      "           1       0.93      0.78      0.85        32\n",
      "\n",
      "    accuracy                           0.93       125\n",
      "   macro avg       0.93      0.88      0.90       125\n",
      "weighted avg       0.93      0.93      0.93       125\n",
      "\n"
     ]
    }
   ],
   "source": [
    "dt1 = DecisionTreeClassifier(criterion='gini', max_depth=7, min_samples_split=20)\n",
    "dt1_res = model_metrics(dt1,x_train,x_test,y_train,y_test)\n",
    "model2 = pd.DataFrame(dt1_res, index=['Decision Tree'])"
   ]
  },
  {
   "cell_type": "markdown",
   "id": "55b7bd63",
   "metadata": {},
   "source": [
    "### Hyperparameter Tuning using GridSearchCV"
   ]
  },
  {
   "cell_type": "code",
   "execution_count": 30,
   "id": "c89991f1",
   "metadata": {},
   "outputs": [],
   "source": [
    "from sklearn.model_selection import GridSearchCV\n",
    "from sklearn.model_selection import cross_val_score,KFold"
   ]
  },
  {
   "cell_type": "code",
   "execution_count": 31,
   "id": "a0abedbf",
   "metadata": {},
   "outputs": [
    {
     "data": {
      "text/plain": [
       "GridSearchCV(cv=KFold(n_splits=5, random_state=None, shuffle=False),\n",
       "             estimator=DecisionTreeClassifier(),\n",
       "             param_grid={'criterion': ['gini', 'entropy'],\n",
       "                         'max_depth': [4, 5, 6, 7, 8, 9, 10, 11],\n",
       "                         'min_samples_split': [8, 10, 12, 14, 15, 17, 20, 22,\n",
       "                                               24]},\n",
       "             scoring='accuracy')"
      ]
     },
     "execution_count": 31,
     "metadata": {},
     "output_type": "execute_result"
    }
   ],
   "source": [
    "hparams_dt = {'criterion':['gini', 'entropy'],\n",
    "             'max_depth': list(range(4,12)),\n",
    "             'min_samples_split':[8,10,12,14,15,17,20,22,24]}\n",
    "bmodel = DecisionTreeClassifier()\n",
    "kf = KFold(n_splits=5)\n",
    "gs1 = GridSearchCV(estimator=bmodel, param_grid = hparams_dt, cv=kf, scoring='accuracy')\n",
    "gs1.fit(x_train, y_train)"
   ]
  },
  {
   "cell_type": "code",
   "execution_count": 32,
   "id": "67a8d81d",
   "metadata": {},
   "outputs": [
    {
     "name": "stdout",
     "output_type": "stream",
     "text": [
      "Best Hyperparameters\n",
      "{'criterion': 'entropy', 'max_depth': 9, 'min_samples_split': 12}\n",
      "DecisionTreeClassifier(criterion='entropy', max_depth=9, min_samples_split=12)\n"
     ]
    }
   ],
   "source": [
    "print('Best Hyperparameters')\n",
    "print(gs1.best_params_)\n",
    "print(gs1.best_estimator_)"
   ]
  },
  {
   "cell_type": "code",
   "execution_count": 33,
   "id": "6fda6d68",
   "metadata": {},
   "outputs": [
    {
     "name": "stdout",
     "output_type": "stream",
     "text": [
      "Training score 0.9518716577540107\n",
      "Testing score 0.904\n",
      "Predictions [0 0 0 0 1 0 0 0 0 0 0 0 0 1 0 0 0 0 0 0 0 0 0 1 0 0 0 0 0 0 1 0 0 0 0 0 0\n",
      " 0 0 1 0 0 1 0 1 1 0 1 1 0 0 1 0 0 0 1 0 1 0 0 1 0 1 1 0 0 0 1 1 0 0 0 0 1\n",
      " 0 0 0 0 1 0 0 0 0 0 0 0 0 0 0 1 0 0 1 0 0 0 1 0 0 0 0 0 0 0 0 0 1 0 1 0 0\n",
      " 0 0 0 0 0 0 0 0 0 0 0 0 1 0]\n",
      "[[90  3]\n",
      " [ 9 23]]\n",
      "              precision    recall  f1-score   support\n",
      "\n",
      "           0       0.91      0.97      0.94        93\n",
      "           1       0.88      0.72      0.79        32\n",
      "\n",
      "    accuracy                           0.90       125\n",
      "   macro avg       0.90      0.84      0.87       125\n",
      "weighted avg       0.90      0.90      0.90       125\n",
      "\n"
     ]
    }
   ],
   "source": [
    "gs1_res = model_metrics(gs1,x_train, x_test, y_train, y_test)\n",
    "model3 = pd.DataFrame(gs1_res, index=['Decision Tree using GridSearchCV'])"
   ]
  },
  {
   "cell_type": "markdown",
   "id": "71713853",
   "metadata": {},
   "source": [
    "### Model 3: Random Forest"
   ]
  },
  {
   "cell_type": "code",
   "execution_count": 34,
   "id": "11900548",
   "metadata": {},
   "outputs": [
    {
     "name": "stdout",
     "output_type": "stream",
     "text": [
      "Training score 0.9385026737967914\n",
      "Testing score 0.92\n",
      "Predictions [0 0 0 1 1 0 0 0 0 0 0 0 0 1 0 0 0 0 0 0 0 0 0 1 0 0 0 0 0 0 1 0 0 0 0 0 0\n",
      " 0 0 1 0 0 1 0 1 1 0 1 1 0 0 0 0 0 0 1 0 1 0 0 0 0 1 1 0 0 0 1 1 0 0 0 0 1\n",
      " 0 0 1 0 1 0 0 0 0 0 0 0 0 0 0 1 0 0 0 0 0 0 1 0 0 0 0 0 0 0 0 0 1 0 1 0 0\n",
      " 0 0 0 0 0 0 1 0 0 0 0 0 1 0]\n",
      "[[91  2]\n",
      " [ 8 24]]\n",
      "              precision    recall  f1-score   support\n",
      "\n",
      "           0       0.92      0.98      0.95        93\n",
      "           1       0.92      0.75      0.83        32\n",
      "\n",
      "    accuracy                           0.92       125\n",
      "   macro avg       0.92      0.86      0.89       125\n",
      "weighted avg       0.92      0.92      0.92       125\n",
      "\n"
     ]
    }
   ],
   "source": [
    "rf1 = RandomForestClassifier(n_estimators=80, criterion='gini',max_depth=10,min_samples_split=30, n_jobs=-1)\n",
    "rf1_res = model_metrics(rf1,x_train, x_test, y_train, y_test)\n",
    "model4 = pd.DataFrame(rf1_res, index=['Random Forest'])"
   ]
  },
  {
   "cell_type": "markdown",
   "id": "d57ebf9d",
   "metadata": {},
   "source": [
    "### Model 4: AdaBoost"
   ]
  },
  {
   "cell_type": "code",
   "execution_count": 35,
   "id": "1af48c80",
   "metadata": {},
   "outputs": [
    {
     "name": "stdout",
     "output_type": "stream",
     "text": [
      "Training score 0.9438502673796791\n",
      "Testing score 0.904\n",
      "Predictions [0 1 0 1 1 0 0 0 0 0 0 0 0 1 0 0 0 0 0 0 0 0 0 1 0 0 0 0 0 0 1 0 0 0 0 0 0\n",
      " 0 0 1 0 0 1 0 1 1 0 0 1 0 0 0 1 0 0 1 0 1 1 0 0 0 1 1 0 0 0 1 1 0 0 0 0 1\n",
      " 0 0 0 0 1 0 0 0 0 0 0 0 0 0 0 1 0 0 1 0 0 0 1 0 0 0 0 0 0 0 0 0 1 0 1 0 0\n",
      " 0 0 0 0 0 0 0 0 0 0 0 0 1 1]\n",
      "[[89  4]\n",
      " [ 8 24]]\n",
      "              precision    recall  f1-score   support\n",
      "\n",
      "           0       0.92      0.96      0.94        93\n",
      "           1       0.86      0.75      0.80        32\n",
      "\n",
      "    accuracy                           0.90       125\n",
      "   macro avg       0.89      0.85      0.87       125\n",
      "weighted avg       0.90      0.90      0.90       125\n",
      "\n"
     ]
    }
   ],
   "source": [
    "adb1 = AdaBoostClassifier(n_estimators=80)\n",
    "adb1_res = model_metrics(adb1,x_train,x_test,y_train,y_test)\n",
    "model5 = pd.DataFrame(adb1_res, index=['AdaBoost'])"
   ]
  },
  {
   "cell_type": "markdown",
   "id": "869ab667",
   "metadata": {},
   "source": [
    "### Model 5: XGBoost"
   ]
  },
  {
   "cell_type": "code",
   "execution_count": 36,
   "id": "8fbc8eb7",
   "metadata": {},
   "outputs": [
    {
     "name": "stdout",
     "output_type": "stream",
     "text": [
      "Training score 0.9572192513368984\n",
      "Testing score 0.912\n",
      "Predictions [0 0 0 1 1 0 0 0 0 0 0 0 0 1 0 0 0 0 0 0 0 0 0 1 0 0 0 0 0 0 1 0 0 0 0 0 0\n",
      " 0 0 1 0 0 1 0 1 1 0 1 1 0 0 0 0 0 0 1 0 1 0 0 0 0 1 1 0 0 0 1 1 0 0 0 0 1\n",
      " 0 0 0 0 1 0 0 0 0 0 0 0 0 0 0 1 0 0 1 0 0 0 1 0 0 0 0 0 0 0 0 0 1 0 1 0 0\n",
      " 0 0 0 0 0 0 1 0 0 0 0 0 1 1]\n",
      "[[90  3]\n",
      " [ 8 24]]\n",
      "              precision    recall  f1-score   support\n",
      "\n",
      "           0       0.92      0.97      0.94        93\n",
      "           1       0.89      0.75      0.81        32\n",
      "\n",
      "    accuracy                           0.91       125\n",
      "   macro avg       0.90      0.86      0.88       125\n",
      "weighted avg       0.91      0.91      0.91       125\n",
      "\n"
     ]
    }
   ],
   "source": [
    "xgb1 = XGBClassifier(objective='binary:logistic',eval_metric='logloss', n_estimators=80,max_depth=4,reg_lambda=0.2,eta=0.3,gamma=0.5,random_state=30)\n",
    "xgb1_res = model_metrics(xgb1,x_train,x_test,y_train,y_test)\n",
    "model6 = pd.DataFrame(xgb1_res, index=['XGBoost'])"
   ]
  },
  {
   "cell_type": "markdown",
   "id": "036971b6",
   "metadata": {},
   "source": [
    "### Final Result"
   ]
  },
  {
   "cell_type": "code",
   "execution_count": 37,
   "id": "335fa086",
   "metadata": {},
   "outputs": [
    {
     "data": {
      "text/html": [
       "<div>\n",
       "<style scoped>\n",
       "    .dataframe tbody tr th:only-of-type {\n",
       "        vertical-align: middle;\n",
       "    }\n",
       "\n",
       "    .dataframe tbody tr th {\n",
       "        vertical-align: top;\n",
       "    }\n",
       "\n",
       "    .dataframe thead th {\n",
       "        text-align: right;\n",
       "    }\n",
       "</style>\n",
       "<table border=\"1\" class=\"dataframe\">\n",
       "  <thead>\n",
       "    <tr style=\"text-align: right;\">\n",
       "      <th></th>\n",
       "      <th>Train Score</th>\n",
       "      <th>Test Score</th>\n",
       "    </tr>\n",
       "  </thead>\n",
       "  <tbody>\n",
       "    <tr>\n",
       "      <th>Logistic Regression</th>\n",
       "      <td>0.930481</td>\n",
       "      <td>0.912</td>\n",
       "    </tr>\n",
       "    <tr>\n",
       "      <th>Decision Tree</th>\n",
       "      <td>0.943850</td>\n",
       "      <td>0.928</td>\n",
       "    </tr>\n",
       "    <tr>\n",
       "      <th>Decision Tree using GridSearchCV</th>\n",
       "      <td>0.951872</td>\n",
       "      <td>0.904</td>\n",
       "    </tr>\n",
       "    <tr>\n",
       "      <th>Random Forest</th>\n",
       "      <td>0.938503</td>\n",
       "      <td>0.920</td>\n",
       "    </tr>\n",
       "    <tr>\n",
       "      <th>AdaBoost</th>\n",
       "      <td>0.943850</td>\n",
       "      <td>0.904</td>\n",
       "    </tr>\n",
       "    <tr>\n",
       "      <th>XGBoost</th>\n",
       "      <td>0.957219</td>\n",
       "      <td>0.912</td>\n",
       "    </tr>\n",
       "  </tbody>\n",
       "</table>\n",
       "</div>"
      ],
      "text/plain": [
       "                                  Train Score  Test Score\n",
       "Logistic Regression                  0.930481       0.912\n",
       "Decision Tree                        0.943850       0.928\n",
       "Decision Tree using GridSearchCV     0.951872       0.904\n",
       "Random Forest                        0.938503       0.920\n",
       "AdaBoost                             0.943850       0.904\n",
       "XGBoost                              0.957219       0.912"
      ]
     },
     "execution_count": 37,
     "metadata": {},
     "output_type": "execute_result"
    }
   ],
   "source": [
    "res = pd.concat([model1, model2, model3, model4, model5, model6])\n",
    "res"
   ]
  },
  {
   "cell_type": "markdown",
   "id": "34b5250b",
   "metadata": {},
   "source": [
    "#### Inference:\n",
    "The best results are given by XGBoost model and Hypertuned Decision Tree"
   ]
  },
  {
   "cell_type": "code",
   "execution_count": null,
   "id": "2cb4fd75",
   "metadata": {},
   "outputs": [],
   "source": []
  }
 ],
 "metadata": {
  "kernelspec": {
   "display_name": "Python 3 (ipykernel)",
   "language": "python",
   "name": "python3"
  },
  "language_info": {
   "codemirror_mode": {
    "name": "ipython",
    "version": 3
   },
   "file_extension": ".py",
   "mimetype": "text/x-python",
   "name": "python",
   "nbconvert_exporter": "python",
   "pygments_lexer": "ipython3",
   "version": "3.9.13"
  }
 },
 "nbformat": 4,
 "nbformat_minor": 5
}
